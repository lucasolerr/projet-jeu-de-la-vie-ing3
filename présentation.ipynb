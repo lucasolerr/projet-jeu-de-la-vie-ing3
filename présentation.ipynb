{
 "cells": [
  {
   "cell_type": "markdown",
   "id": "5c1250a5",
   "metadata": {},
   "source": [
    "# GAME OF LIFE \n",
    "\n",
    "Nous sommes ravis de vous présenter notre premier projet en Python.\n",
    "\n",
    "Le but de ce projet était de construire un Jeu de La Vie ou \"Game of Life\" afin de mettre en pratique nos connaissances. \n",
    "\n",
    "Nous avons travaillé dur pendant un mois et demi en respectant un ***plan de travail structuré*** qui vous serra présenté ci-dessous. \n",
    "\n",
    "Dans un premier temps, il a fallut mettre en place une ***organisation***. Cela nous a permit de respecter les deadlines tout en travaillant sur le projet de façons ***constante***. \n",
    "Ainsi, nous avons privilégier une première réunion de ***préconception*** pour éviter de nous lancer tête baissée dans le projet. \n",
    "Au cours de cette préconception nous nous sommes reparti les tâches selon les envies et les facilités de chacun. \n",
    "Nous avons également mis en place un document partagé et un Discord pour suivre les avancées du projet en continu. \n",
    "Chacun était libre de poser des questions et nous sommes resté soudé pour permettre au projet de voir le jour. \n",
    "De plus, nous avons choisi de mettre en place un ***projet GitHub*** afin de mettre en commun tous les dossiers crée. Cela a permit à chacun de tester le code et de suivre son avancement. \n",
    "\n",
    "Après avoir mis en place notre plan de travail nous avons commencé le codage. \n",
    "Il était necessaire pour nous de commencer par créer le jeu en console avant de l implémenter sous forme graphique. \n",
    "\n",
    "## Le jeu console ou Moteur de Jeu: \n",
    "\n",
    "Les cellules sont necessaires pour générer une grille. Nous avons décidés de créer une ***classe Cellule()*** pour pouvoir initialiser des cellules grâce à une même definition. \n",
    "\n",
    "### La Grille :\n",
    "Pour cela on a créer une ***classe Grille()*** contenant des méthodes permettant son actualisation. \n",
    "    1- On doit définir pour chaque cellules ses cellules voisines et leur état = morte ou vivante. "
   ]
  },
  {
   "cell_type": "code",
   "execution_count": null,
   "metadata": {},
   "outputs": [],
   "source": [
    "#méthode pour définir les voisins de chaque cellule\n",
    "    # return une liste des voisins de la cell \n",
    "    def find_voisin(self, cell_ligne, cell_colonne): \n",
    "        #créer une liste vide pour stocker les cellules voisines\n",
    "        list_voisins = []\n",
    "        # on parcour les cell en partant de la cellule a checker \n",
    "        # on parcourt entre:  -1 = cell précedante / 0 = même ligne ou colonne que la cell / 1 = cellule suivante\n",
    "        for lignes in range(-1, 2): \n",
    "            for colonnes in range(-1,2): \n",
    "                voisin_ligne = cell_ligne + lignes\n",
    "                voisin_colonne = cell_colonne + colonnes \n",
    "\n",
    "                #on vérifie que la cellule trouvé ne soit pas hors cadre ou que ça soit la même cellule\n",
    "                voisin_OK = True \n",
    "                if (voisin_ligne) == cell_ligne and (voisin_colonne) == cell_colonne: \n",
    "                    voisin_OK = False\n",
    "                if (voisin_ligne) < 0 or (voisin_colonne)>= self.colonnes: \n",
    "                    voisin_OK = False\n",
    "                if (voisin_colonne) < 0 or (voisin_ligne) >= self.lignes: \n",
    "                    voisin_OK = False \n",
    "            \n",
    "                if voisin_OK : \n",
    "                    list_voisins.append(self.grille2D[voisin_ligne][voisin_colonne])\n",
    "        return list_voisin     "
   ]
  },
  {
   "cell_type": "markdown",
   "metadata": {},
   "source": [
    "2 - Après avoir determiner si le nombre de cellules voisines de chaque cellule en stockant leur état on va finalement faire évoluer la grille en fonction des 3 règles du jeu. \n",
    "  # On créer de 2 listes pour stocker les cellules vivantes et mortes\n",
    "  # on parcours la grille en modifiant l'état des cellulles en fonction des 3 règles "
   ]
  },
  {
   "cell_type": "code",
   "execution_count": null,
   "metadata": {},
   "outputs": [],
   "source": [
    " \n",
    "    def etat_suivant(self): \n",
    "\n",
    "        list_vivantes = []\n",
    "        list_mortes = []\n",
    "\n",
    "        for lignes in range (len(self.grille2D)): \n",
    "            for colonnes in range(len(self.grille2D[lignes])): \n",
    "                find_voisin = self.find_voisin(lignes, colonnes)\n",
    "                #création d'une liste pour stocker le nb et les cell voisines vivantes\n",
    "                nb_voisin_alive = []\n",
    "                \n",
    "                for cell_voisine in find_voisin : \n",
    "                    if cell_voisine.check_actual_state(): \n",
    "                        # on rempli la liste au fur et à mesure \n",
    "                        nb_voisin_alive.append(cell_voisine)\n",
    "\n",
    "                cell = self.grille2D[lignes][colonnes]\n",
    "                etat_cell = cell.check_actual_state()\n",
    "\n",
    "                # on test les règles du jeu sur la cellule actuelle\n",
    "                # on remplit à chaque fois la liste de cell morte ou vivante en fonction\n",
    "                # si cell vivante alors : \n",
    "                if etat_cell == True : \n",
    "                    # reste vivante si elle a 2 ou 3 cell voisine vivantes \n",
    "                    if len(nb_voisin_alive) == 2 or len(nb_voisin_alive) == 3: \n",
    "                        list_vivantes.append(cell)\n",
    "                    # meurt de sous ou de surpopulation\n",
    "                    if len(nb_voisin_alive) < 2 or len(nb_voisin_alive) > 3:\n",
    "                        list_mortes.append(cell)\n",
    "                # si cell morte alors :\n",
    "                else: \n",
    "                    # vit si exactement 3 cell voisines vivantes \n",
    "                    if len(nb_voisin_alive) == 3: \n",
    "                        list_vivantes.append(cell)\n",
    "        # Enfin, on modifie l'état actuel de chaque cell analysée en parcourant les 2 listes créées    \n",
    "        for cellule in list_vivantes: \n",
    "            cellule.cell_alive()\n",
    "        for cellule in list_mortes:\n",
    "            cellule.cell_dead() "
   ]
  },
  {
   "cell_type": "markdown",
   "metadata": {},
   "source": [
    "Une fois la grille fonctionnelle, nous allons maintenant nous concentrer sur l'affichage de notre jeu en utilisant les fonctions aupréalablement créer. "
   ]
  },
  {
   "cell_type": "code",
   "execution_count": null,
   "metadata": {},
   "outputs": [],
   "source": [
    "import pygame\n",
    "import numpy as np\n",
    "import matplotlib.pyplot as plt\n",
    "from matplotlib.backends.backend_agg import FigureCanvasAgg as FigureCanvas\n",
    "import time\n",
    "import scipy.signal"
   ]
  },
  {
   "cell_type": "markdown",
   "id": "670f4b81-43ba-4237-a359-85b6b0203cd8",
   "metadata": {},
   "source": [
    "# Game Engine"
   ]
  },
  {
   "cell_type": "code",
   "execution_count": null,
   "id": "5eeb37e8-d05c-4f74-acf2-ad16513dcc10",
   "metadata": {},
   "outputs": [],
   "source": [
    "class GameOfLife:\n",
    "    def __init__(self, width, height):\n",
    "        self.width = width\n",
    "        self.height = height\n",
    "        self.board = np.random.choice([0, 1], size=(height, width), p=[0.7, 0.3])\n",
    "\n",
    "    def save_to_file(self, filename):\n",
    "        np.savetxt(filename, self.board, fmt=\"%d\")\n",
    "\n",
    "    def load_from_file(self, filename):\n",
    "        self.board = np.loadtxt(filename, dtype=int)\n",
    "\n",
    "    def update_board(self):\n",
    "        kernel = np.array([[1, 1, 1], [1, 0, 1], [1, 1, 1]])\n",
    "        neighbors_count = scipy.signal.convolve2d(\n",
    "            self.board, kernel, mode=\"same\", boundary=\"fill\", fillvalue=0\n",
    "        )\n",
    "        self.board = np.where(\n",
    "            (self.board == 1) & ((neighbors_count < 2) | (neighbors_count > 3)),\n",
    "            0,\n",
    "            np.where(\n",
    "                (self.board == 1) & ((neighbors_count == 2) | (neighbors_count == 3)),\n",
    "                1,\n",
    "                np.where((self.board == 0) & (neighbors_count == 3), 1, self.board),\n",
    "            ),\n",
    "        )\n",
    "    "
   ]
  },
  {
   "cell_type": "markdown",
   "id": "c1da2e40-9a43-45f6-bf4d-d9175b4af14c",
   "metadata": {},
   "source": [
    "# Game Renderer"
   ]
  },
  {
   "cell_type": "markdown",
   "id": "37df6f7a",
   "metadata": {},
   "source": [
    "De plus, nous souhaitons définir et connaitre leur état à chaque instant. Cela nous permettra de générer des courbes et facilitera l évolution de la grille. \n",
    "On aura donc 3 méthodes : "
   ]
  },
  {
   "cell_type": "markdown",
   "id": "ef6f65c3",
   "metadata": {},
   "source": [
    "\n",
    "### La Grille : \n",
    "Nous avons opté pour une classe Grille () qui permettra de générer une grille avec des paramètres génériques tels que sa largeur et sa longueur (nombre de lignes / nombre de colonnes)\n",
    "Il nous a paru également plus efficace d utiliser des méthodes pour créer, remplir, afficher et mettre à jour une grille de taille NxN. \n",
    "Ainsi, nous avons la définition de notre classe comme suit :  "
   ]
  },
  {
   "cell_type": "markdown",
   "id": "c60b39a8",
   "metadata": {},
   "source": [
    "### Evolution du jeu :\n",
    "Pour se faire, les 3 règles suivantes doivent être respectées : \n",
    "- une cellule vivante survit si elle a 2 ou 3 voisins vivants.\n",
    "- une cellule vivante meurt de solitude ou de surpopulation.\n",
    "- une cellule morte peut devenir vivante si elle a exactement 3 voisins vivants.\n",
    "\n",
    "Nous avons crée 2 méthodes pour respecter ces règles. \n",
    "\n",
    "#### Définir les voisins de chaque cellule dans la grille :  \n",
    "* on crée un liste de cellules qui contiendra les cellules voisines et qui sera stocké dans les paramètres de la cellule. \n",
    "* on parcours chaque cellule de la grille en partant de la cellule à tester. \n",
    "* on parcours la liste en notant l état des cellules qu elle contient. \n",
    "* le nombre de cellules vivantes (= au voisines vivantes de la cellule à tester) sera stocké dans la cellule grâce au \"self.\""
   ]
  },
  {
   "cell_type": "markdown",
   "id": "aabbad0a",
   "metadata": {},
   "source": [
    "#### Faire évoluer la grille en respectant les 3 règles du jeu : \n",
    "   * on crée 2 listes vides pour stocker les cellules mortes et les cellules vivantes de la grille.\n",
    "   * on recupère le nb de voisines vivantes de chaque cellule. \n",
    "   * on teste les 3 règles du jeu. \n",
    "   * on change l état de la cellule en fonction des règles. \n",
    "   * on affiche la nouvelle grille pour observer l évolution du jeu. \n"
   ]
  },
  {
   "cell_type": "code",
   "execution_count": null,
   "metadata": {},
   "outputs": [],
   "source": [
    "def update_board(self):\n",
    "    kernel = np.array([[1, 1, 1], [1, 0, 1], [1, 1, 1]])\n",
    "    neighbors_count = scipy.signal.convolve2d(\n",
    "        self.board, kernel, mode=\"same\", boundary=\"fill\", fillvalue=0\n",
    "    )\n",
    "    self.board = np.where(\n",
    "        (self.board == 1) & ((neighbors_count < 2) | (neighbors_count > 3)),\n",
    "        0,\n",
    "        np.where(\n",
    "            (self.board == 1) & ((neighbors_count == 2) | (neighbors_count == 3)),\n",
    "            1,\n",
    "            np.where((self.board == 0) & (neighbors_count == 3), 1, self.board),\n",
    "        ),\n",
    "    )"
   ]
  },
  {
   "cell_type": "markdown",
   "id": "f604a14b",
   "metadata": {},
   "source": [
    "## 2- Le jeu en graphique: "
   ]
  },
  {
   "cell_type": "code",
   "execution_count": null,
   "id": "b14cc846",
   "metadata": {},
   "outputs": [],
   "source": []
  },
  {
   "cell_type": "markdown",
   "id": "1d666432",
   "metadata": {},
   "source": [
    "## 3- Analyse de l'évolution & courbes representatives: "
   ]
  },
  {
   "cell_type": "code",
   "execution_count": null,
   "id": "1a0279aa",
   "metadata": {},
   "outputs": [],
   "source": []
  },
  {
   "cell_type": "markdown",
   "id": "9152cecd",
   "metadata": {},
   "source": [
    "## 4- Le Lancement du jeu / Affichage: \n",
    "L utilisateur va lancer le jeu dans le fichier main.py \n",
    "A partir de là il aura plusieurs options : \n",
    "   * lancement en graphique avec affichage des courbes d'évolution\n",
    "   * actualiser la grille manuellement ou non \n",
    "   * quitter la partie à tous moments \n",
    "Peut importe son choix il devra dans tous les cas entrer au clavier la taille de la grille souhaitée. "
   ]
  },
  {
   "cell_type": "code",
   "execution_count": null,
   "id": "4dd8a3ea",
   "metadata": {},
   "outputs": [],
   "source": []
  },
  {
   "cell_type": "markdown",
   "id": "65f9fbe6",
   "metadata": {},
   "source": [
    "***ATTENTION !*** \n",
    "Pour éviter un problème ou un bug nous devons ABSOLUEMENT vérifier que la taille entrée est bien un entier réel positif. \n",
    "Nous avons donc utilisé la ***méthode du blindage***. \n",
    "\n",
    "Il faudra aussi caster le nombre en entier car tout ce qui est entrée au clavier est forcément considéré par défaut comme un string (chaîne de caractère). "
   ]
  },
  {
   "cell_type": "markdown",
   "id": "a0e9da0b",
   "metadata": {},
   "source": [
    "Enfin, le jeu va évoluer petit à petit de façon plus ou moins autonome. \n",
    "Le joueur peut faire avancer le jeu grâce à un bouton (mode graphique) ou en tappant \"q\" sur son clavier (mode console).\n",
    "Il est également possible de faire évoluer le jeu de manière autonome mais l évolution sera plus rapide et moins facile à analyser. "
   ]
  }
 ],
 "metadata": {
  "kernelspec": {
   "display_name": "Python 3 (ipykernel)",
   "language": "python",
   "name": "python3"
  },
  "language_info": {
   "codemirror_mode": {
    "name": "ipython",
    "version": 3
   },
   "file_extension": ".py",
   "mimetype": "text/x-python",
   "name": "python",
   "nbconvert_exporter": "python",
   "pygments_lexer": "ipython3",
   "version": "3.11.2"
  }
 },
 "nbformat": 4,
 "nbformat_minor": 5
}
