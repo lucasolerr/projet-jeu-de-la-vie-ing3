{
 "cells": [
  {
   "cell_type": "markdown",
   "id": "5c1250a5",
   "metadata": {},
   "source": [
    "# GAME OF LIFE \n",
    "\n",
    "Nous sommes ravis de vous présenter notre premier projet en Python.\n",
    "\n",
    "Le but de ce projet était de construire un Jeu de La Vie ou \"Game of Life\" afin de mettre en pratique nos connaissances. \n",
    "\n",
    "Nous avons travaillé dur pendant un mois et demi en respectant un ***plan de travail structuré*** qui vous serra présenté ci-dessous. \n",
    "\n",
    "Dans un premier temps, il a fallut mettre en place une ***organisation***. Cela nous a permit de respecter les deadlines tout en travaillant sur le projet de façons ***constante***. \n",
    "Ainsi, nous avons privilégier une première réunion de ***préconception*** pour éviter de nous lancer tête baissée dans le projet. \n",
    "Au cours de cette préconception nous nous sommes reparti les tâches selon les envies et les facilités de chacun. \n",
    "Nous avons également mis en place un document partagé et un Discord pour suivre les avancées du projet en continu. \n",
    "Chacun était libre de poser des questions et nous sommes resté soudé pour permettre au projet de voir le jour. \n",
    "De plus, nous avons choisi de mettre en place un ***projet GitHub*** afin de mettre en commun tous les dossiers crée. Cela a permit à chacun de tester le code et de suivre son avancement. \n",
    "\n",
    "Après avoir mis en place notre plan de travail nous avons commencé le codage. \n",
    "Il était necessaire pour nous de commencer par créer le jeu en console avant de l implémenter sous forme graphique. \n",
    "\n",
    "## Le jeu console ou Moteur de Jeu: \n",
    "\n",
    "\n",
    "### Les Cellules :\n",
    "Les cellules sont necessaires pour générer une grille. Nous avons décidés de créer une ***classe Cellule()*** pour pouvoir initialiser des cellules grâce à une même definition. "
   ]
  },
  {
   "cell_type": "code",
   "execution_count": 2,
   "id": "62935372",
   "metadata": {},
   "outputs": [],
   "source": [
    "class Cellule:\n",
    "    # méthode d'init d'une cellule avec uniquement son statut: Morte par defaut\n",
    "    def __init__(self):\n",
    "        self.state = \"M\""
   ]
  },
  {
   "cell_type": "markdown",
   "id": "37df6f7a",
   "metadata": {},
   "source": [
    "De plus, nous souhaitons définir et connaitre leur état à chaque instant. Cela nous permettra de générer des courbes et facilitera l évolution de la grille. \n",
    "On aura donc 3 méthodes : "
   ]
  },
  {
   "cell_type": "code",
   "execution_count": 6,
   "id": "2fcaa67d",
   "metadata": {
    "scrolled": true
   },
   "outputs": [],
   "source": [
    "    # méthode pour créer une cellule morte\n",
    "    def cell_dead(self):\n",
    "        self.state = \"M\"\n",
    "    # méthode pour créer une cellule vivante\n",
    "    def cell_alive(self):\n",
    "        self.state = \"*\"\n",
    "\n",
    "    # méthode pour définir l'état actuel de la cellule : return True= Vivante / False= Morte\n",
    "    def check_actual_state(self):\n",
    "        if self.state == \"*\":\n",
    "            return True\n",
    "        else:\n",
    "            return False"
   ]
  },
  {
   "cell_type": "markdown",
   "id": "ef6f65c3",
   "metadata": {},
   "source": [
    "\n",
    "### La Grille : \n",
    "Nous avons opté pour une classe Grille () qui permettra de générer une grille avec des paramètres génériques tels que sa largeur et sa longueur (nombre de lignes / nombre de colonnes)\n",
    "Il nous a paru également plus efficace d utiliser des méthodes pour créer, remplir, afficher et mettre à jour une grille de taille NxN. \n",
    "Ainsi, nous avons la définition de notre classe comme suit :  "
   ]
  },
  {
   "cell_type": "code",
   "execution_count": 7,
   "id": "9dc8aa45",
   "metadata": {},
   "outputs": [
    {
     "name": "stdout",
     "output_type": "stream",
     "text": [
      "MMM*MMM*MM\n",
      "M*M**M**M*\n",
      "**M*MMM*M*\n",
      "MM**MMMMM*\n",
      "*M***MMMMM\n",
      "MM*MM**M*M\n",
      "**MM***MMM\n",
      "MM*MMMMM**\n",
      "MM*M**M**M\n",
      "***M*M*M**\n"
     ]
    }
   ],
   "source": [
    "from random import randint\n",
    "class Grille:\n",
    "\n",
    "    # méthode d'init de la classe Grille()\n",
    "    def __init__(self, lignes, colonnes):\n",
    "        self.lignes = lignes\n",
    "        self.colonnes = colonnes\n",
    "        self.grille2D = [ [Cellule() for _ in range(self.colonnes)] for _ in range(self.lignes) ]\n",
    "\n",
    "        self.build_grille()\n",
    "    \n",
    "    # méthode pour générer une nouvelle grille avec des cellules aléatoirement mortes ou vivantes\n",
    "    def build_grille(self):\n",
    "        for lignes in self.grille2D:\n",
    "            for colonnes in lignes:\n",
    "                cell = randint(0, 2)\n",
    "                if cell == 1:\n",
    "                    colonnes.cell_alive()\n",
    "\n",
    "    # méthode d'affichage de la grille sous forme de lettre pour meilleure visibilité\n",
    "    def afficher_grille(self):\n",
    "        for lignes in self.grille2D:\n",
    "            for colonnes in lignes:\n",
    "                if colonnes.check_actual_state():\n",
    "                    print(\"*\", end=\"\")\n",
    "                else:\n",
    "                    print(\"M\", end=\"\")\n",
    "            print()\n",
    "\n",
    "grille = Grille(10,10)\n",
    "grille.afficher_grille()"
   ]
  },
  {
   "cell_type": "markdown",
   "id": "c60b39a8",
   "metadata": {},
   "source": [
    "### Evolution du jeu :\n",
    "Pour se faire, les 3 règles suivantes doivent être respectées : \n",
    "- une cellule vivante survit si elle a 2 ou 3 voisins vivants.\n",
    "- une cellule vivante meurt de solitude ou de surpopulation.\n",
    "- une cellule morte peut devenir vivante si elle a exactement 3 voisins vivants.\n",
    "\n",
    "Nous avons crée 2 méthodes pour respecter ces règles. \n",
    "\n",
    "#### Définir les voisins de chaque cellule dans la grille :  \n",
    "* on crée un liste de cellules qui contiendra les cellules voisines et qui sera stocké dans les paramètres de la cellule. \n",
    "* on parcours chaque cellule de la grille en partant de la cellule à tester. \n",
    "* on parcours la liste en notant l état des cellules qu elle contient. \n",
    "* le nombre de cellules vivantes (= au voisines vivantes de la cellule à tester) sera stocké dans la cellule grâce au \"self.\""
   ]
  },
  {
   "cell_type": "code",
   "execution_count": null,
   "id": "8e38ed94",
   "metadata": {},
   "outputs": [],
   "source": [
    " def find_voisin(self):\n",
    "    # création d'une liste de voisins propres à la cellule \n",
    "         self.neighbors = {}\n",
    "    # parcours de la grille\n",
    "        for ligne in range(self.lignes):\n",
    "            for colonne in range(self.colonnes):\n",
    "                # cellule voisine trouvée\n",
    "                neighbors = []\n",
    "                for i in range(-1, 2):\n",
    "                    for j in range(-1, 2):\n",
    "                        # On ignore elle-même\n",
    "                        if i == 0 and j == 0:\n",
    "                            continue  \n",
    "                        voisin_ligne = ligne + i\n",
    "                        voisin_colonne = colonne + j\n",
    "                        # on test que la cellule soit bien voisine de la notre et ne sorte pas de la grille \n",
    "                        if 0 <= voisin_ligne < self.lignes and 0 <= voisin_colonne < self.colonnes:\n",
    "                            neighbors.append(self.grille2D[voisin_ligne][voisin_colonne])\n",
    "                # stockage de la voisine trouvée dans la liste de voisins de la cellule \n",
    "                self.neighbors[(ligne, colonne)] = neighbors"
   ]
  },
  {
   "cell_type": "markdown",
   "id": "aabbad0a",
   "metadata": {},
   "source": [
    "#### Faire évoluer la grille en respectant les 3 règles du jeu : \n",
    "   * on crée 2 listes vide pour stocker les cellules mortes et les cellules vivantes de la grille.\n",
    "   * on recupère le nb de voisines vivantes de chaque cellule. \n",
    "   * on teste les 3 règles du jeu. \n",
    "   * on change l état de la cellule en fonction des règles. \n",
    "   * on affiche la nouvelle grille pour observer l évolution du jeu. \n"
   ]
  },
  {
   "cell_type": "code",
   "execution_count": null,
   "id": "c32bd463",
   "metadata": {},
   "outputs": [],
   "source": [
    "    def etat_suivant(self):\n",
    "# on créer 2 listes pour stocker les nouvelles cellules vivantes et mortes         \n",
    "        list_vivantes = set()\n",
    "        list_mortes = set()\n",
    "\n",
    "# on parcours la grille \n",
    "    for ligne in range(self.lignes):\n",
    "        for colonne in range(self.colonnes):\n",
    "            cell = self.grille2D[ligne][colonne]\n",
    "            neighbors = self.neighbors[(ligne, colonne)]\n",
    "\n",
    "# le nombre de voisines vivantes et définit par la somme des voisins de la cellule ayant pour état \"V\"\n",
    "            nb_voisin_alive = sum(1 for neighbor in neighbors if neighbor.check_actual_state())\n",
    "\n",
    "# on teste les 3 règles du jeu en fonction du nombre de voisinnes vivantes de chaque cellules\n",
    "# chaque cellule est ajoutée à l'une des deux listes\n",
    "            if cell.check_actual_state():\n",
    "                if nb_voisin_alive == 2 or nb_voisin_alive == 3:\n",
    "                    list_vivantes.add(cell)\n",
    "                else:\n",
    "                    list_mortes.add(cell)\n",
    "            else:\n",
    "                if nb_voisin_alive == 3:\n",
    "                    list_vivantes.add(cell)\n",
    "\n",
    "    #changer l'état des cellules en fonction de la liste à laquelle elles appartiennent\n",
    "    for cellule in list_vivantes:\n",
    "        cellule.cell_alive()\n",
    "    for cellule in list_mortes:\n",
    "        cellule.cell_dead()"
   ]
  },
  {
   "cell_type": "markdown",
   "id": "f604a14b",
   "metadata": {},
   "source": [
    "## 2- Le jeu en graphique: "
   ]
  },
  {
   "cell_type": "code",
   "execution_count": null,
   "id": "b14cc846",
   "metadata": {},
   "outputs": [],
   "source": []
  },
  {
   "cell_type": "markdown",
   "id": "1d666432",
   "metadata": {},
   "source": [
    "## 3- Analyse de l'évolution & courbes representatives: "
   ]
  },
  {
   "cell_type": "code",
   "execution_count": null,
   "id": "1a0279aa",
   "metadata": {},
   "outputs": [],
   "source": []
  },
  {
   "cell_type": "markdown",
   "id": "9152cecd",
   "metadata": {},
   "source": [
    "## 4- Le Lancement du jeu / Affichage: \n",
    "L utilisateur va lancer le jeu dans le fichier main.py \n",
    "A partir de là il aura plusieurs options : \n",
    "   * lancement en graphique avec affichage des courbes d'évolution\n",
    "   * actualiser la grille manuellement ou non \n",
    "   * quitter la partie à tous moments \n",
    "Peut importe son choix il devra dans tous les cas entrer au clavier la taille de la grille souhaitée. "
   ]
  },
  {
   "cell_type": "code",
   "execution_count": null,
   "id": "4dd8a3ea",
   "metadata": {},
   "outputs": [],
   "source": []
  },
  {
   "cell_type": "markdown",
   "id": "65f9fbe6",
   "metadata": {},
   "source": [
    "***ATTENTION !*** \n",
    "Pour éviter un problème ou un bug nous devons ABSOLUEMENT vérifier que la taille entrée est bien un entier réel positif. \n",
    "Nous avons donc utilisé la ***méthode du blindage***. \n",
    "\n",
    "Il faudra aussi caster le nombre en entier car tout ce qui est entrée au clavier est forcément considéré par défaut comme un string (chaîne de caractère). "
   ]
  },
  {
   "cell_type": "code",
   "execution_count": 24,
   "id": "d146a71b",
   "metadata": {
    "scrolled": false
   },
   "outputs": [
    {
     "name": "stdout",
     "output_type": "stream",
     "text": [
      "saisir la taille N de la grille (NxN): h\n",
      "Veuillez saisir un entier\n",
      "saisir la taille N de la grille (NxN): 5\n",
      "5\n"
     ]
    }
   ],
   "source": [
    "while True: \n",
    "    # demander la taille de la grille à l'utilisateur\n",
    "    lignes = input(\"saisir la taille N de la grille (NxN): \")\n",
    "    if lignes.isnumeric() or (lignes[1:].isnumeric() and lignes[0] == \"-\"):  # verifie si le nb est un entier positif\n",
    "    # ou entier negatif : 1er terme - et 2eme terme un entier\n",
    "        break\n",
    "    else:\n",
    "        print(\"Veuillez saisir un entier\")\n",
    "# pour caster le nombre en entier\n",
    "lignes = int(lignes)  \n",
    "print (lignes)"
   ]
  },
  {
   "cell_type": "markdown",
   "id": "a0e9da0b",
   "metadata": {},
   "source": [
    "Enfin, le jeu va évoluer petit à petit de façon plus ou moins autonome. \n",
    "Le joueur peut faire avancer le jeu grâce à un bouton (mode graphique) ou en tappant \"q\" sur son clavier (mode console).\n",
    "Il est également possible de faire évoluer le jeu de manière autonome mais l évolution sera plus rapide et moins facile à analyser. "
   ]
  }
 ],
 "metadata": {
  "kernelspec": {
   "display_name": "Python 3 (ipykernel)",
   "language": "python",
   "name": "python3"
  },
  "language_info": {
   "codemirror_mode": {
    "name": "ipython",
    "version": 3
   },
   "file_extension": ".py",
   "mimetype": "text/x-python",
   "name": "python",
   "nbconvert_exporter": "python",
   "pygments_lexer": "ipython3",
   "version": "3.11.4"
  }
 },
 "nbformat": 4,
 "nbformat_minor": 5
}