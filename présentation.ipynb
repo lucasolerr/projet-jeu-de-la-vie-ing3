{
 "cells": [
  {
   "cell_type": "markdown",
   "id": "457c7ad4",
   "metadata": {
    "collapsed": false,
    "jupyter": {
     "outputs_hidden": false
    },
    "pycharm": {
     "name": "#%% md\n"
    }
   },
   "source": [
    "# GAME OF LIFE \n",
    "\n",
    "Nous sommes ravis de vous présenter notre premier projet en Python.\n",
    "\n",
    "Le but de ce projet était de construire un Jeu de La Vie ou \"Game of Life\" afin de mettre en pratique nos connaissances. \n",
    "\n",
    "Nous avons travaillé dur pendant un mois et demi en respectant un ***plan de travail structuré*** qui vous serra présenté ci-dessous. \n",
    "\n",
    "Dans un premier temps, il a fallut mettre en place une ***organisation***. Cela nous a permit de respecter les deadlines tout en travaillant sur le projet de façons ***constante***. \n",
    "Ainsi, nous avons privilégier une première réunion de ***préconception*** pour éviter de nous lancer tête baissée dans le projet. \n",
    "Au cours de cette préconception nous nous sommes reparti les tâches selon les envies et les facilités de chacun. \n",
    "Nous avons également mis en place un document partagé et un Discord pour suivre les avancées du projet en continu. \n",
    "Chacun était libre de poser des questions et nous sommes resté soudé pour permettre au projet de voir le jour. \n",
    "De plus, nous avons choisi de mettre en place un ***projet GitHub*** afin de mettre en commun tous les dossiers crée. Cela a permit à chacun de tester le code et de suivre son avancement. \n",
    "\n",
    "Après avoir mis en place notre plan de travail nous avons commencé le codage. \n",
    "Il était necessaire pour nous de commencer par créer le jeu en console avant de l implémenter sous forme graphique. \n",
    "\n",
    "## A. Moteur de Jeu: \n",
    "\n",
    "### La Grille :\n",
    "Pour cela on a créer une ***classe Grille()*** contenant des méthodes permettant son actualisation. \n",
    "* On doit définir pour chaque cellule de la grille ses cellules voisines et leur état = morte ou vivante. \n",
    "Ici une cellule correspondra à une case de la grille elle est donc définit par ***self.grille2D[lignes][colonnes]*** \n",
    "Chaque cellule est également définit par la classe ***Cellule()*** qui permet de définir l'état de chaque cellule dans la grille. "
   ]
  },
  {
   "cell_type": "code",
   "execution_count": null,
   "id": "c2cc275f",
   "metadata": {
    "collapsed": false,
    "jupyter": {
     "outputs_hidden": false
    },
    "pycharm": {
     "name": "#%%\n"
    }
   },
   "outputs": [],
   "source": [
    "def find_voisin(self): \n",
    "    list_voisins = []\n",
    "\n",
    "    for lignes in range(-1, 2): \n",
    "        for colonnes in range(-1,2): \n",
    "            voisin_ligne = self.grille2D[lignes] + lignes\n",
    "            voisin_colonne = self.grille2D[colonnes] + colonnes \n",
    "\n",
    "            voisin_OK = True \n",
    "            if (voisin_ligne) == self.grille2D[lignes] and (voisin_colonne) == self.grille2D[colonnes]: \n",
    "                voisin_OK = False\n",
    "            if (voisin_ligne) < 0 or (voisin_colonne)>= self.colonnes: \n",
    "                voisin_OK = False\n",
    "            if (voisin_colonne) < 0 or (voisin_ligne) >= self.lignes: \n",
    "                voisin_OK = False \n",
    "        \n",
    "            if voisin_OK : \n",
    "                list_voisins.append(self.grille2D[voisin_ligne][voisin_colonne])\n",
    "    return list_voisins  "
   ]
  },
  {
   "cell_type": "markdown",
   "id": "1141aa3f",
   "metadata": {
    "collapsed": false,
    "jupyter": {
     "outputs_hidden": false
    },
    "pycharm": {
     "name": "#%% md\n"
    }
   },
   "source": [
    "2 - Après avoir determiner le nombre de cellules voisines de chaque cellule en stockant leur état dans 2 listes distinctes on va finalement faire évoluer la grille en fonction des 3 règles du jeu. \n",
    "  - on créer 2 listes pour stocker les cellules vivantes et mortes\n",
    "  - on parcours la grille en modifiant l'état des cellulles en fonction des 3 règles.  \n",
    "\n",
    "Les règles du jeu sont les suivantes : \n",
    "* 1 cellule vivante survit si elle à 2 ou 3 voisins vivants\n",
    "* 1 cellule vivante meurt de solitude ou de surpopulation\n",
    "* 1 cellule morte peut devenir vivante si elle à exactement 3 voisins vivants\n"
   ]
  },
  {
   "cell_type": "code",
   "execution_count": null,
   "id": "21ce2f4e",
   "metadata": {
    "collapsed": false,
    "jupyter": {
     "outputs_hidden": false
    },
    "pycharm": {
     "name": "#%%\n"
    }
   },
   "outputs": [],
   "source": [
    "def update_board(self): \n",
    "\n",
    "        list_vivantes = []\n",
    "        list_mortes = []\n",
    "\n",
    "        for lignes in range (len(self.grille2D)): \n",
    "            for colonnes in range(len(self.grille2D[lignes])): \n",
    "                find_voisin = self.find_voisin(lignes, colonnes)\n",
    "                nb_voisin_alive = []\n",
    "                \n",
    "                for cell_voisine in find_voisin : \n",
    "                    if cell_voisine.check_actual_state(): \n",
    "                        nb_voisin_alive.append(cell_voisine)\n",
    "\n",
    "                cell = self.grille2D[lignes][colonnes]\n",
    "                etat_cell = cell.check_actual_state()\n",
    "\n",
    "                if etat_cell == True : \n",
    "                    if len(nb_voisin_alive) == 2 or len(nb_voisin_alive) == 3: \n",
    "                        list_vivantes.append(cell)\n",
    "                    if len(nb_voisin_alive) < 2 or len(nb_voisin_alive) > 3:\n",
    "                        list_mortes.append(cell)\n",
    "                else: \n",
    "                    if len(nb_voisin_alive) == 3: \n",
    "                        list_vivantes.append(cell)\n",
    "        for cellule in list_vivantes: \n",
    "            cellule.state == 1\n",
    "        for cellule in list_mortes:\n",
    "            cellule.state == 0 "
   ]
  },
  {
   "cell_type": "markdown",
   "id": "6450e78a",
   "metadata": {
    "collapsed": false,
    "jupyter": {
     "outputs_hidden": false
    },
    "pycharm": {
     "name": "#%% md\n"
    }
   },
   "source": [
    "### Initialiser une grille aléatoirement\n",
    "\n",
    "Pour initialiser la grille aléatoirement la grille on utilise la bibliothèque random de python et on genère une grille complète contenant des 0 et des 1 de façons aléatoire avec la fonction ***random.randint()***. \n",
    "Nous avons aussi mis en place une boucle pour faire évoluer la grille manuellement en pressant ENTRER. "
   ]
  },
  {
   "cell_type": "code",
   "execution_count": null,
   "id": "01f95cbd",
   "metadata": {
    "collapsed": false,
    "jupyter": {
     "outputs_hidden": false
    },
    "pycharm": {
     "name": "#%%\n"
    }
   },
   "outputs": [],
   "source": [
    "nb_colonnes = 50\n",
    "nb_lignes = 50\n",
    "\n",
    "grille2D = [[0 for _ in range(nb_colonnes)] for _ in range(nb_lignes)]\n",
    "\n",
    "def build_grille(grille2D):\n",
    "    for ligne in grille2D:\n",
    "        for colonne in ligne:\n",
    "            alea = random.randint(0, 2)\n",
    "            if alea == 1:\n",
    "                grille2D[ligne][colonne] = 1"
   ]
  },
  {
   "cell_type": "markdown",
   "id": "6e299ae9",
   "metadata": {
    "collapsed": false,
    "jupyter": {
     "outputs_hidden": false
    },
    "pycharm": {
     "name": "#%% md\n"
    }
   },
   "source": [
    "Voici le résultat obtenu à la console pour l'affichage d'une grille aléatoire de 30x30 : \n"
   ]
  },
  {
   "cell_type": "code",
   "execution_count": 1,
   "id": "7da45135-c001-4d26-9cd5-644132eea9d2",
   "metadata": {},
   "outputs": [
    {
     "name": "stdout",
     "output_type": "stream",
     "text": [
      "saisir la taille de la grille (NxN):  10\n"
     ]
    },
    {
     "name": "stdout",
     "output_type": "stream",
     "text": [
      "0 0 0 1 1 1 1 0 0 0 \n",
      "0 1 0 0 0 0 1 1 0 0 \n",
      "1 0 1 0 1 0 0 0 1 1 \n",
      "1 0 0 1 0 0 1 0 0 0 \n",
      "1 0 1 0 1 1 0 1 0 1 \n",
      "0 1 0 1 0 1 0 0 0 0 \n",
      "1 0 1 1 0 1 0 0 1 0 \n",
      "0 0 0 1 0 0 0 0 0 1 \n",
      "1 1 0 1 0 1 0 0 0 0 \n",
      "1 0 0 0 0 0 1 1 1 0 \n"
     ]
    },
    {
     "name": "stdout",
     "output_type": "stream",
     "text": [
      "Cliquer sur q pour quitter ou presser entrer pour update la grille:  \n"
     ]
    },
    {
     "name": "stdout",
     "output_type": "stream",
     "text": [
      "0 0 0 0 1 1 1 1 0 0 \n",
      "0 1 1 0 0 0 1 1 1 0 \n",
      "1 0 1 1 0 1 1 0 1 0 \n",
      "1 0 1 0 0 0 1 1 0 1 \n",
      "1 0 1 0 0 1 0 0 0 0 \n",
      "1 0 0 0 0 1 0 0 1 0 \n",
      "0 1 0 1 0 0 0 0 0 0 \n",
      "1 0 0 1 0 0 0 0 0 0 \n",
      "1 1 1 0 1 0 1 1 1 0 \n",
      "1 1 0 0 0 0 1 1 0 0 \n"
     ]
    },
    {
     "name": "stdout",
     "output_type": "stream",
     "text": [
      "Cliquer sur q pour quitter ou presser entrer pour update la grille:  \n"
     ]
    },
    {
     "name": "stdout",
     "output_type": "stream",
     "text": [
      "0 0 0 0 0 1 0 0 1 0 \n",
      "0 1 1 0 0 0 0 0 1 0 \n",
      "1 0 0 1 0 1 0 0 0 1 \n",
      "1 0 1 0 1 0 0 1 1 0 \n",
      "1 0 0 0 0 1 0 1 1 0 \n",
      "1 0 1 0 1 0 0 0 0 0 \n",
      "1 1 1 0 1 0 0 0 0 0 \n",
      "1 0 0 1 1 0 0 1 0 0 \n",
      "0 0 1 1 0 1 1 0 1 0 \n",
      "1 0 1 0 0 1 1 0 1 0 \n"
     ]
    },
    {
     "name": "stdout",
     "output_type": "stream",
     "text": [
      "Cliquer sur q pour quitter ou presser entrer pour update la grille:  \n"
     ]
    },
    {
     "name": "stdout",
     "output_type": "stream",
     "text": [
      "0 0 0 0 0 0 0 0 0 0 \n",
      "0 1 1 0 1 0 0 0 1 1 \n",
      "1 0 0 1 1 0 0 1 0 1 \n",
      "1 0 0 1 1 1 0 1 0 1 \n",
      "1 0 0 0 1 1 1 1 1 0 \n",
      "1 0 1 0 1 1 0 0 0 0 \n",
      "1 0 1 0 1 1 0 0 0 0 \n",
      "1 0 0 0 0 0 1 1 0 0 \n",
      "0 0 1 0 0 0 0 0 1 0 \n",
      "0 1 1 1 1 1 1 0 0 0 \n"
     ]
    },
    {
     "name": "stdout",
     "output_type": "stream",
     "text": [
      "Cliquer sur q pour quitter ou presser entrer pour update la grille:  \n"
     ]
    },
    {
     "name": "stdout",
     "output_type": "stream",
     "text": [
      "0 0 0 0 0 0 0 0 0 0 \n",
      "0 1 1 0 1 0 0 0 1 1 \n",
      "1 0 0 0 0 0 1 1 0 1 \n",
      "1 1 0 0 0 0 0 0 0 1 \n",
      "1 0 0 0 0 0 0 1 1 0 \n",
      "1 0 0 0 0 0 0 1 0 0 \n",
      "1 0 0 0 1 0 0 0 0 0 \n",
      "0 0 0 1 0 1 1 1 0 0 \n",
      "0 0 1 0 1 0 0 0 0 0 \n",
      "0 1 1 1 1 1 0 0 0 0 \n"
     ]
    },
    {
     "name": "stdout",
     "output_type": "stream",
     "text": [
      "Cliquer sur q pour quitter ou presser entrer pour update la grille:  \n"
     ]
    },
    {
     "name": "stdout",
     "output_type": "stream",
     "text": [
      "0 0 0 0 0 0 0 0 0 0 \n",
      "0 1 0 0 0 0 0 1 1 1 \n",
      "1 0 1 0 0 0 0 1 0 1 \n",
      "1 1 0 0 0 0 1 0 0 1 \n",
      "1 0 0 0 0 0 0 1 1 0 \n",
      "1 1 0 0 0 0 0 1 1 0 \n",
      "0 0 0 0 1 1 0 1 0 0 \n",
      "0 0 0 1 0 1 1 0 0 0 \n",
      "0 1 0 0 0 0 0 0 0 0 \n",
      "0 1 1 0 1 1 0 0 0 0 \n"
     ]
    },
    {
     "name": "stdout",
     "output_type": "stream",
     "text": [
      "Cliquer sur q pour quitter ou presser entrer pour update la grille:  \n"
     ]
    },
    {
     "name": "stdout",
     "output_type": "stream",
     "text": [
      "0 0 0 0 0 0 0 0 1 0 \n",
      "0 1 0 0 0 0 0 1 0 1 \n",
      "1 0 1 0 0 0 1 1 0 1 \n",
      "1 0 0 0 0 0 1 0 0 1 \n",
      "0 0 0 0 0 0 1 0 0 1 \n",
      "1 1 0 0 0 0 0 0 0 0 \n",
      "0 0 0 0 1 1 0 1 1 0 \n",
      "0 0 0 0 0 1 1 0 0 0 \n",
      "0 1 0 1 0 0 1 0 0 0 \n",
      "0 1 1 0 0 0 0 0 0 0 \n"
     ]
    },
    {
     "name": "stdout",
     "output_type": "stream",
     "text": [
      "Cliquer sur q pour quitter ou presser entrer pour update la grille:  \n"
     ]
    },
    {
     "name": "stdout",
     "output_type": "stream",
     "text": [
      "0 0 0 0 0 0 0 0 1 0 \n",
      "0 1 0 0 0 0 1 1 0 1 \n",
      "1 0 0 0 0 0 1 1 0 1 \n",
      "0 1 0 0 0 1 1 0 0 1 \n",
      "1 1 0 0 0 0 0 0 0 0 \n",
      "0 0 0 0 0 1 1 1 1 0 \n",
      "0 0 0 0 1 1 0 1 0 0 \n",
      "0 0 0 0 0 0 0 0 0 0 \n",
      "0 1 0 0 0 1 1 0 0 0 \n",
      "0 1 1 0 0 0 0 0 0 0 \n"
     ]
    },
    {
     "name": "stdout",
     "output_type": "stream",
     "text": [
      "Cliquer sur q pour quitter ou presser entrer pour update la grille:  \n"
     ]
    },
    {
     "name": "stdout",
     "output_type": "stream",
     "text": [
      "0 0 0 0 0 0 0 1 1 0 \n",
      "0 0 0 0 0 0 1 0 0 1 \n",
      "1 1 0 0 0 0 0 0 0 1 \n",
      "0 1 0 0 0 1 1 1 1 0 \n",
      "1 1 0 0 0 0 0 0 1 0 \n",
      "0 0 0 0 1 1 0 1 1 0 \n",
      "0 0 0 0 1 1 0 1 1 0 \n",
      "0 0 0 0 1 0 0 0 0 0 \n",
      "0 1 1 0 0 0 0 0 0 0 \n",
      "0 1 1 0 0 0 0 0 0 0 \n"
     ]
    },
    {
     "name": "stdout",
     "output_type": "stream",
     "text": [
      "Cliquer sur q pour quitter ou presser entrer pour update la grille:  q\n"
     ]
    },
    {
     "name": "stdout",
     "output_type": "stream",
     "text": [
      "0 0 0 0 0 0 0 1 1 0 \n",
      "0 0 0 0 0 0 0 1 0 1 \n",
      "1 1 0 0 0 1 0 0 0 1 \n",
      "0 0 1 0 0 0 1 1 1 1 \n",
      "1 1 0 0 1 0 0 0 0 1 \n",
      "0 0 0 0 1 1 0 0 0 1 \n",
      "0 0 0 1 0 0 0 1 1 0 \n",
      "0 0 0 1 1 1 0 0 0 0 \n",
      "0 1 1 1 0 0 0 0 0 0 \n",
      "0 1 1 0 0 0 0 0 0 0 \n"
     ]
    }
   ],
   "source": [
    "%run ./presentation/Jeu.py"
   ]
  },
  {
   "cell_type": "markdown",
   "id": "3f252822",
   "metadata": {
    "collapsed": false,
    "jupyter": {
     "outputs_hidden": false
    },
    "pycharm": {
     "name": "#%% md\n"
    }
   },
   "source": []
  },
  {
   "cell_type": "markdown",
   "id": "edaec379",
   "metadata": {
    "collapsed": false,
    "jupyter": {
     "outputs_hidden": false
    },
    "pycharm": {
     "name": "#%% md\n"
    }
   },
   "source": [
    "Une fois la grille fonctionnelle, nous allons maintenant nous concentrer sur l'affichage de notre jeu en utilisant les fonctions aupréalablement créer. "
   ]
  },
  {
   "cell_type": "markdown",
   "id": "6e7111b4",
   "metadata": {
    "collapsed": false,
    "jupyter": {
     "outputs_hidden": false
    },
    "pycharm": {
     "name": "#%% md\n"
    }
   },
   "source": [
    "## B. Partie interface"
   ]
  },
  {
   "cell_type": "markdown",
   "id": "e3c427b0",
   "metadata": {
    "collapsed": false,
    "jupyter": {
     "outputs_hidden": false
    },
    "pycharm": {
     "name": "#%% md\n"
    }
   },
   "source": [
    "***ATTENTION !*** \n",
    "Pour éviter un problème ou un bug nous devons ABSOLUEMENT vérifier que la taille entrée est bien un entier réel positif. \n",
    "Nous avons donc utilisé la ***méthode du blindage***. \n",
    "\n",
    "Il faudra aussi caster le nombre en entier car tout ce qui est entrée au clavier est forcément considéré par défaut comme un string (chaîne de caractère). "
   ]
  },
  {
   "cell_type": "markdown",
   "id": "69240253",
   "metadata": {
    "collapsed": false,
    "jupyter": {
     "outputs_hidden": false
    },
    "pycharm": {
     "name": "#%% md\n"
    }
   },
   "source": [
    "# Blindage"
   ]
  },
  {
   "cell_type": "code",
   "execution_count": null,
   "id": "f461731c",
   "metadata": {
    "collapsed": false,
    "jupyter": {
     "outputs_hidden": false
    },
    "pycharm": {
     "name": "#%%\n"
    }
   },
   "outputs": [],
   "source": [
    "def run(self):\n",
    "    choix_loop = True\n",
    "    while choix_loop:\n",
    "        for event in pygame.event.get():\n",
    "                if event.key == pygame.K_RETURN:\n",
    "                    try:\n",
    "                        selected_size = int(self.game_menu.user_input)\n",
    "                        print(\n",
    "                            f\"Taille de la grille sélectionnée : {selected_size}x{selected_size}\"\n",
    "                        )\n",
    "                        if selected_size >= 50:\n",
    "                            self.game_menu.selected_action = None\n",
    "                            self.game_menu.start_selected = False\n",
    "                            self.game_menu.playing = True\n",
    "                            choix_loop = False\n",
    "\n",
    "                if event.key == pygame.K_BACKSPACE:\n",
    "                    self.game_menu.user_input = self.game_menu.user_input[:-1]\n",
    "\n",
    "                if event.key in (\n",
    "                    pygame.K_0,\n",
    "                    pygame.K_1,\n",
    "                    pygame.K_2,\n",
    "                    pygame.K_3,\n",
    "                    pygame.K_4,\n",
    "                    pygame.K_5,\n",
    "                    pygame.K_6,\n",
    "                    pygame.K_7,\n",
    "                    pygame.K_8,\n",
    "                    pygame.K_9,\n",
    "                ):\n",
    "                    self.game_menu.user_input += event.unicode\n",
    "\n",
    "\n",
    "        pygame.display.flip()"
   ]
  },
  {
   "cell_type": "markdown",
   "id": "3403809c",
   "metadata": {
    "collapsed": false,
    "jupyter": {
     "outputs_hidden": false
    },
    "pycharm": {
     "name": "#%% md\n"
    }
   },
   "source": [
    "# Affichage"
   ]
  },
  {
   "cell_type": "code",
   "execution_count": null,
   "id": "ca2c4b4d",
   "metadata": {
    "collapsed": false,
    "jupyter": {
     "outputs_hidden": false
    },
    "pycharm": {
     "name": "#%%\n"
    }
   },
   "outputs": [],
   "source": [
    "def transition_between_state(self):\n",
    "        if self.update:\n",
    "                self.game.update_board()\n",
    "                self.draw_board()\n",
    "                self.draw_button()"
   ]
  },
  {
   "cell_type": "code",
   "execution_count": null,
   "id": "3c8c6951",
   "metadata": {
    "collapsed": false,
    "jupyter": {
     "outputs_hidden": false
    },
    "pycharm": {
     "name": "#%%\n"
    }
   },
   "outputs": [],
   "source": [
    "def draw_button(self):\n",
    "    self.screen.blit(self.button_play_image, self.button_play_rect)\n",
    "    self.screen.blit(self.button_pause_image, self.button_pause_rect)\n",
    "    self.screen.blit(self.button_save_image, self.button_save_rect)\n",
    "    self.screen.blit(self.button_load_image, self.button_load_rect)\n",
    "    self.screen.blit(self.deco_bonnet_image, self.deco_bonnet_rect)\n",
    "    self.screen.blit(self.deco_pere_noel_image, self.deco_pere_noel_rect)\n",
    "    self.screen.blit(self.deco_cadeau_image, self.deco_cadeau_rect)\n"
   ]
  },
  {
   "cell_type": "markdown",
   "id": "03898294",
   "metadata": {
    "collapsed": false,
    "jupyter": {
     "outputs_hidden": false
    },
    "pycharm": {
     "name": "#%% md\n"
    }
   },
   "source": [
    "![Affichage des boutons](image/screenshot_buttons.png)"
   ]
  },
  {
   "cell_type": "code",
   "execution_count": null,
   "id": "5def76b6",
   "metadata": {
    "collapsed": false,
    "jupyter": {
     "outputs_hidden": false
    },
    "pycharm": {
     "name": "#%%\n"
    }
   },
   "outputs": [],
   "source": [
    "def draw_board(self):\n",
    "        self.screen.fill((135, 206, 250))\n",
    "        \n",
    "        # Dessin des celulles\n",
    "        for i in range(self.game.height):\n",
    "            for j in range(self.game.width):\n",
    "                if self.game.board[i, j] == 1:\n",
    "                    pygame.draw.rect(\n",
    "                        self.screen,\n",
    "                        (0, 0, 100),\n",
    "                        (\n",
    "                            j * self.cell_size + 40,\n",
    "                            i * self.cell_size + 40,\n",
    "                            self.cell_size,\n",
    "                            self.cell_size,\n",
    "                        ),\n",
    "                    )\n",
    "\n",
    "        # Dessin du cadrillage\n",
    "        for i in range(self.game.height + 1):\n",
    "            pygame.draw.line(self.screen,(0, 0, 0),(40, i * self.cell_size + 40),(40 + self.game.width * self.cell_size, i * self.cell_size + 40),1)\n",
    "\n",
    "        for j in range(self.game.width + 1):\n",
    "            pygame.draw.line(self.screen,(0, 0, 0),(j * self.cell_size + 40, 40),(j * self.cell_size + 40, 40 + self.game.height * self.cell_size),1)\n"
   ]
  },
  {
   "cell_type": "markdown",
   "id": "3b358bcc",
   "metadata": {
    "collapsed": false,
    "jupyter": {
     "outputs_hidden": false
    },
    "pycharm": {
     "name": "#%% md\n"
    }
   },
   "source": [
    "![Affichage de la grille](image/screenshot_grille.png)"
   ]
  },
  {
   "cell_type": "markdown",
   "id": "4382a5df",
   "metadata": {
    "collapsed": false,
    "jupyter": {
     "outputs_hidden": false
    },
    "pycharm": {
     "name": "#%% md\n"
    }
   },
   "source": [
    "# Modifier l'état des cellules"
   ]
  },
  {
   "cell_type": "code",
   "execution_count": null,
   "id": "59a14d98",
   "metadata": {
    "collapsed": false,
    "jupyter": {
     "outputs_hidden": false
    },
    "pycharm": {
     "name": "#%%\n"
    }
   },
   "outputs": [],
   "source": [
    "def update_cell_on_click(self, pos):\n",
    "    i, j = (pos[1] - 40) // self.cell_size, (pos[0] - 40) // self.cell_size\n",
    "\n",
    "    if (\n",
    "        0 <= i < self.game.height\n",
    "        and 0 <= j < self.game.width\n",
    "        and not self.placement\n",
    "    ):\n",
    "        self.game.board[i, j] = 1 - self.game.board[i, j]\n",
    "        self.draw_board()   "
   ]
  },
  {
   "cell_type": "markdown",
   "id": "0d82f26b",
   "metadata": {
    "collapsed": false,
    "jupyter": {
     "outputs_hidden": false
    },
    "pycharm": {
     "name": "#%% md\n"
    }
   },
   "source": [
    "# Execution automatique"
   ]
  },
  {
   "cell_type": "code",
   "execution_count": null,
   "id": "e0968a84",
   "metadata": {
    "collapsed": false,
    "jupyter": {
     "outputs_hidden": false
    },
    "pycharm": {
     "name": "#%%\n"
    }
   },
   "outputs": [],
   "source": [
    "# Création d'un évènement de clock\n",
    "CLOCK_EVENT = pygame.USEREVENT + 1\n",
    "pygame.time.set_timer(CLOCK_EVENT, 300)\n",
    "\n",
    "def handle_events(self):\n",
    "    for event in pygame.event.get():\n",
    "        if event.type == pygame.USEREVENT + 1:\n",
    "            if self.pause == False:\n",
    "                self.update = True\n",
    "                self.transition_between_state()"
   ]
  },
  {
   "cell_type": "markdown",
   "id": "9aac9d7f",
   "metadata": {
    "collapsed": false,
    "jupyter": {
     "outputs_hidden": false
    },
    "pycharm": {
     "name": "#%% md\n"
    }
   },
   "source": [
    "# Placement de structure complexe"
   ]
  },
  {
   "cell_type": "code",
   "execution_count": null,
   "id": "4af09f35",
   "metadata": {
    "collapsed": false,
    "pycharm": {
     "name": "#%%\n"
    }
   },
   "outputs": [],
   "source": [
    "# positionnement d'une structure complexe\n",
    "def place_spaceship(self, i, j):\n",
    "    spaceship = np.array(\n",
    "        [\n",
    "            [0, 0, 1, 1, 0, 0, 0],\n",
    "            [1, 0, 0, 0, 0, 1, 0],\n",
    "            [0, 0, 0, 0, 0, 0, 1],\n",
    "            [1, 0, 0, 0, 0, 0, 1],\n",
    "            [0, 1, 1, 1, 1, 1, 1],\n",
    "        ]\n",
    "    )\n",
    "    if i + 5 < self.width and j + 7 < self.width:\n",
    "        self.board[i : i + 5, j : j + 7] = spaceship\n"
   ]
  },
  {
   "cell_type": "markdown",
   "id": "e38ac12f",
   "metadata": {
    "collapsed": false,
    "jupyter": {
     "outputs_hidden": false
    },
    "pycharm": {
     "name": "#%% md\n"
    }
   },
   "source": [
    "![Spaceship sur la grille du jeu](image/spaceship.png)"
   ]
  },
  {
   "cell_type": "markdown",
   "id": "d1869428",
   "metadata": {
    "collapsed": false,
    "jupyter": {
     "outputs_hidden": false
    },
    "pycharm": {
     "name": "#%% md\n"
    }
   },
   "source": [
    "## C. Sauvegarde et Chargement"
   ]
  },
  {
   "cell_type": "code",
   "execution_count": null,
   "id": "5f9f657d",
   "metadata": {
    "collapsed": false,
    "jupyter": {
     "outputs_hidden": false
    },
    "pycharm": {
     "name": "#%%\n"
    }
   },
   "outputs": [],
   "source": [
    "def save_to_file(self, filename):\n",
    "    np.savetxt(filename, self.board, fmt=\"%d\")\n",
    "\n",
    "def load_from_file(self, filename):\n",
    "    self.board = np.loadtxt(filename, dtype=int)"
   ]
  },
  {
   "cell_type": "markdown",
   "id": "e42b2a14-a6d8-425e-99f1-2fe87dc0e512",
   "metadata": {},
   "source": [
    "![Save](image/save.png)"
   ]
  },
  {
   "cell_type": "markdown",
   "id": "2c795eb3",
   "metadata": {
    "collapsed": false,
    "jupyter": {
     "outputs_hidden": false
    },
    "pycharm": {
     "name": "#%% md\n"
    }
   },
   "source": []
  },
  {
   "cell_type": "code",
   "execution_count": null,
   "id": "19beadbc",
   "metadata": {
    "collapsed": false,
    "jupyter": {
     "outputs_hidden": false
    },
    "pycharm": {
     "name": "#%%\n"
    }
   },
   "outputs": [],
   "source": [
    "def update_board(self):\n",
    "    kernel = np.array([[1, 1, 1], [1, 0, 1], [1, 1, 1]])\n",
    "    neighbors_count = scipy.signal.convolve2d(\n",
    "        self.board, kernel, mode=\"same\", boundary=\"fill\", fillvalue=0\n",
    "    )\n",
    "    self.board = np.where(\n",
    "        (self.board == 1) & ((neighbors_count < 2) | (neighbors_count > 3)),\n",
    "        0,\n",
    "        np.where(\n",
    "            (self.board == 1) & ((neighbors_count == 2) | (neighbors_count == 3)),\n",
    "            1,\n",
    "            np.where((self.board == 0) & (neighbors_count == 3), 1, self.board),\n",
    "        ),\n",
    "    )"
   ]
  },
  {
   "cell_type": "markdown",
   "id": "bb8cbc09-70e4-4c61-862b-6ac9da055b3a",
   "metadata": {},
   "source": [
    "![convolution](image/convolution.gif)"
   ]
  },
  {
   "cell_type": "code",
   "execution_count": null,
   "id": "4134601a",
   "metadata": {
    "collapsed": false,
    "jupyter": {
     "outputs_hidden": false
    },
    "pycharm": {
     "name": "#%%\n"
    }
   },
   "outputs": [],
   "source": [
    "def transition_between_state(self):\n",
    "    start_time = time.time()\n",
    "    self.game.update_board()\n",
    "    end_time = time.time()\n",
    "    elapsed_time = (end_time - start_time) * 1000\n",
    "    self.elapsed_time.append(elapsed_time)"
   ]
  },
  {
   "cell_type": "markdown",
   "id": "3d62540c",
   "metadata": {
    "collapsed": false,
    "jupyter": {
     "outputs_hidden": false
    },
    "pycharm": {
     "name": "#%% md\n"
    }
   },
   "source": [
    "### Tests du temps d'exécution pour une matrice de 100x100 générée aléatoirement 100 fois.\n",
    "\n",
    "résultats : 1ms"
   ]
  },
  {
   "cell_type": "code",
   "execution_count": null,
   "id": "eee2b486",
   "metadata": {
    "collapsed": false,
    "jupyter": {
     "outputs_hidden": false
    },
    "pycharm": {
     "name": "#%%\n"
    }
   },
   "outputs": [],
   "source": [
    "import time\n",
    "import numpy as np\n",
    "import scipy.signal\n",
    "\n",
    "def update_board(board):\n",
    "    kernel = np.array([[1, 1, 1], [1, 0, 1], [1, 1, 1]])\n",
    "    neighbors_count = scipy.signal.convolve2d(\n",
    "        board, kernel, mode=\"same\", boundary=\"fill\", fillvalue=0\n",
    "    )\n",
    "\n",
    "    condition_1 = (board == 1) & ((neighbors_count < 2) | (neighbors_count > 3))\n",
    "    condition_2 = (board == 1) & ((neighbors_count == 2) | (neighbors_count == 3))\n",
    "    condition_3 = (board == 0) & (neighbors_count == 3)\n",
    "\n",
    "    board = np.where(condition_1, 0, np.where(condition_2, 1, np.where(condition_3, 1, board)))\n",
    "\n",
    "\n",
    "\n",
    "start_time = time.time()\n",
    "for i in range(100):\n",
    "    board = np.random.choice([0, 1], size=(100, 100), p=[0.5, 0.5])\n",
    "    update_board(board)\n",
    "\n",
    "end_time = time.time()\n",
    "elapsed_time = (end_time - start_time) * 1000 / 100\n",
    "print(f\"---- Temps moyen d'exécution {elapsed_time:.2f} ms ----\")"
   ]
  },
  {
   "cell_type": "markdown",
   "id": "688227d1",
   "metadata": {
    "collapsed": false,
    "jupyter": {
     "outputs_hidden": false
    },
    "pycharm": {
     "name": "#%% md\n"
    }
   },
   "source": [
    "## E. Analyse de données et présentation"
   ]
  },
  {
   "cell_type": "markdown",
   "id": "8f6fdd9d",
   "metadata": {
    "collapsed": false,
    "jupyter": {
     "outputs_hidden": false
    },
    "pycharm": {
     "name": "#%% md\n"
    }
   },
   "source": [
    "De plus, nous souhaitons définir et connaitre leur état à chaque instant. Cela nous permettra de générer des courbes et facilitera l évolution de la grille. \n",
    "\n",
    "Nous avons crée les deux graphes : un qui montre l'évolution des cellules en fonction de chaque itération, et un qui calcule le temps d'execution à chaque itération.\n",
    "\n",
    "Pour cela nous avons crée une fonction qui permettra de tracer ces deux graphes. Puis égalemment une fonction \" état entre deux\" qui permet de mettre à jour l'état de chaque graphe. Nous utilisons la biliotèque matplotlib et récupérons l'image qui s'acutalisera à chaque itération dans le jeu. \n",
    "\n",
    "On aura donc 2 méthode : "
   ]
  },
  {
   "cell_type": "code",
   "execution_count": null,
   "id": "394dade4",
   "metadata": {
    "collapsed": false,
    "jupyter": {
     "outputs_hidden": false
    },
    "pycharm": {
     "name": "#%%\n"
    }
   },
   "outputs": [],
   "source": [
    "def draw_curve(self, data, width=2, x_label=None, y_label=None, offset=(1080, 10)):\n",
    "        fig, ax = plt.subplots(\n",
    "            figsize=(8, 4), facecolor=(135 / 255, 206 / 255, 250 / 255)\n",
    "        )\n",
    "        ax.plot(data, linewidth=width)\n",
    "        ax.set_xlabel(x_label)\n",
    "        ax.set_ylabel(y_label)\n",
    "        canvas = FigureCanvas(fig)\n",
    "        canvas.draw()\n",
    "        size = canvas.get_width_height()\n",
    "        image = pygame.image.fromstring(canvas.tostring_rgb(), size, \"RGB\")\n",
    "        self.screen.blit(image, offset)\n",
    "        plt.close(fig)\n",
    "\n"
   ]
  },
  {
   "cell_type": "code",
   "execution_count": null,
   "id": "723a2bae",
   "metadata": {},
   "outputs": [],
   "source": [
    "def transition_between_state(self):\n",
    "        if self.update:\n",
    "            start_time = time.time()\n",
    "            self.game.update_board()\n",
    "            end_time = time.time()\n",
    "            elapsed_time = (end_time - start_time) * 1000\n",
    "            self.elapsed_time.append(elapsed_time)\n",
    "            alive_cells_count = np.sum(self.game.board)\n",
    "            self.alive_cells.append(alive_cells_count)\n",
    "            print(f\"Time taken for update: {elapsed_time:.4f} milliseconds\")\n",
    "            self.draw_board()\n",
    "            self.draw_button()\n",
    "            self.draw_curve(\n",
    "                data=self.elapsed_time,\n",
    "                x_label=\"Steps\",\n",
    "                y_label=\"Execution Time (ms)\",\n",
    "            )\n",
    "            self.draw_curve(\n",
    "                self.alive_cells,\n",
    "                x_label=\"Steps\",\n",
    "                y_label=\"Number of Living Cells\",\n",
    "                offset=(1080, 450),\n",
    "            )\n",
    "            median_time = np.median(self.elapsed_time)\n",
    "            self.draw_text(f\"Median Execution Time: {median_time:.2f} ms\", (1080, 30))\n",
    "            nb_cell = np.sum(self.game.board)\n",
    "            self.draw_text(f\"Total Number of Cells: {nb_cell:.2f}\", (1080, 450))\n",
    "            self.update = False"
   ]
  },
  {
   "cell_type": "markdown",
   "id": "23c37fb5",
   "metadata": {},
   "source": [
    "Nous obtenous les graphes suivants dans le jeu, la première image correspond au temps d'éxecution en fonction des itérations. La deuxième image correspond au graphique du nombre de cellules vivantes en fonction des itérations : \n"
   ]
  },
  {
   "attachments": {
    "curve_execution_time.png": {
     "image/png": "[encoded data removed]"
    }
   },
   "cell_type": "markdown",
   "id": "d233d6e0",
   "metadata": {},
   "source": [
    "![curve_execution_time.png](attachment:curve_execution_time.png)"
   ]
  },
  {
   "attachments": {
    "image.png": {
     "image/png": "[encoded data removed]"
    }
   },
   "cell_type": "markdown",
   "id": "eb7df5d1",
   "metadata": {},
   "source": [
    "![image.png](attachment:image.png)"
   ]
  }
 ],
 "metadata": {
  "kernelspec": {
   "display_name": "Python 3 (ipykernel)",
   "language": "python",
   "name": "python3"
  },
  "language_info": {
   "codemirror_mode": {
    "name": "ipython",
    "version": 3
   },
   "file_extension": ".py",
   "mimetype": "text/x-python",
   "name": "python",
   "nbconvert_exporter": "python",
   "pygments_lexer": "ipython3",
   "version": "3.10.4"
  }
 },
 "nbformat": 4,
 "nbformat_minor": 5
}
